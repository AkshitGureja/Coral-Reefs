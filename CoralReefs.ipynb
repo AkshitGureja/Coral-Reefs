{
 "cells": [
  {
   "cell_type": "code",
   "execution_count": null,
   "metadata": {},
   "outputs": [],
   "source": [
    "import cv2\n",
    "import os\n",
    "import numpy as np\n",
    "import matplotlib.pyplot as plt\n",
    "import pandas as pd\n",
    "\n",
    "IMG_DIRECTORY = \"./images/\""
   ]
  },
  {
   "cell_type": "code",
   "execution_count": null,
   "metadata": {},
   "outputs": [],
   "source": [
    "# Function to get all sundays of a particular year\n",
    "\n",
    "def allsundays(year):\n",
    "    return pd.date_range(start=str(year), end=str(year+1), \n",
    "                         freq='W-SUN').strftime('%m/%d/%Y').tolist()"
   ]
  },
  {
   "cell_type": "code",
   "execution_count": null,
   "metadata": {},
   "outputs": [],
   "source": [
    "# Gets the list of all folders present in the images folder\n",
    "img_list = sorted(os.listdir(IMG_DIRECTORY))\n",
    "\n",
    "# On analysis, we've found that each image is comprised of only 7 colors given here\n",
    "unique = [[150,0, 0], [150, 150, 150], [200, 250, 250], [240, 0, 0], [250, 170, 10], [255, 240, 0],  [255,255, 255]]\n",
    "\n",
    "# For easier computation, here are the grayscale values of the colors\n",
    "gray_vals = [44, 71, 150, 175, 217, 235, 254]\n",
    "\n",
    "# Stores all the data\n",
    "all_data = []\n",
    "\n",
    "# folder here corresponds to the year\n",
    "for folder in img_list:\n",
    "    name = IMG_DIRECTORY + \"/\" + folder + \"/ct5km_baa-max-7d_v3.1_\" + folder\n",
    "\n",
    "    # Stores all the data for a year\n",
    "    year_data = []\n",
    "\n",
    "    # Get all the sundays for this year, store it in the variable 'sundays'\n",
    "    sundays = allsundays(int(folder))\n",
    "\n",
    "    # for every sunday\n",
    "    for day in sundays:\n",
    "\n",
    "        # split the date\n",
    "        month, date, year = day.split(\"/\")\n",
    "\n",
    "        # concatenate to get the file name accordingly\n",
    "        file = name + month + date + \".png\"\n",
    "\n",
    "        # check that the file exists\n",
    "        if(os.path.exists(file)):\n",
    "            \n",
    "            # if the file exists, we read it in RGB format, so that computation is lighter\n",
    "            img = cv2.imread(file,0)\n",
    "\n",
    "            # dividing the map into 3 regions - the east pacific, asia atlantic (Atlantic and Indian Ocean)\n",
    "            # and the water bodies around Australia\n",
    "            pacific = img[:, :2200]\n",
    "            asia_atlantic = img[:, 2200:5500]\n",
    "            australia = img[:,5500:]\n",
    "\n",
    "            parts = [pacific, asia_atlantic, australia]\n",
    "        \n",
    "            # Stores all the data for an image of a year\n",
    "            img_data = []\n",
    "\n",
    "            # for every region defined\n",
    "            for part in parts:\n",
    "\n",
    "                # we get a histogram of the image\n",
    "                hist, bin_edges = np.histogram(part.ravel(), 255, range=(0,255))\n",
    "\n",
    "                # To store all the data for a particular region of the original image\n",
    "                part_data = []\n",
    "\n",
    "                # We are only interested in getting the histograms for the 7 colors mentioned above\n",
    "                for color in gray_vals:\n",
    "                    part_data.append(hist[color])\n",
    "                \n",
    "                img_data.append(part_data)\n",
    "\n",
    "            year_data.append(img_data) \n",
    "    all_data.append(year_data)    "
   ]
  }
 ],
 "metadata": {
  "kernelspec": {
   "display_name": "Python 3.10.4 64-bit",
   "language": "python",
   "name": "python3"
  },
  "language_info": {
   "codemirror_mode": {
    "name": "ipython",
    "version": 3
   },
   "file_extension": ".py",
   "mimetype": "text/x-python",
   "name": "python",
   "nbconvert_exporter": "python",
   "pygments_lexer": "ipython3",
   "version": "3.10.4"
  },
  "orig_nbformat": 4,
  "vscode": {
   "interpreter": {
    "hash": "916dbcbb3f70747c44a77c7bcd40155683ae19c65e1c03b4aa3499c5328201f1"
   }
  }
 },
 "nbformat": 4,
 "nbformat_minor": 2
}
